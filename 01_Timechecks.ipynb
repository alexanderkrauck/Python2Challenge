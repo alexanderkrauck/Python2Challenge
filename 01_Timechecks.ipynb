{
 "cells": [
  {
   "cell_type": "code",
   "execution_count": 1,
   "source": [
    "from PIL import Image\n",
    "import torch\n",
    "import torchvision\n",
    "from torchvision import transforms\n",
    "import numpy as np\n",
    "import os"
   ],
   "outputs": [],
   "metadata": {}
  },
  {
   "cell_type": "code",
   "execution_count": 2,
   "source": [
    "img_file = \"dataset/000/0000000.jpg\"\n",
    "first_transform = torchvision.transforms.Compose([\n",
    "    transforms.Resize((90, 90)),\n",
    "    transforms.ToTensor()\n",
    "])\n"
   ],
   "outputs": [],
   "metadata": {}
  },
  {
   "cell_type": "code",
   "execution_count": 3,
   "source": [
    "def do_image(img_file):\n",
    "    pil_img = Image.open(img_file)\n",
    "    x = torch.squeeze(first_transform(pil_img), dim = 0)#add transforms (image augmentation)\n",
    "    input = torch.ones_like(x) * -1\n",
    "\n",
    "    left_margin = np.random.randint(5, 11)\n",
    "    left_margin_size = np.random.randint(75 + left_margin, 86)\n",
    "    top_margin = np.random.randint(5, 11)\n",
    "    top_margin_size = np.random.randint(75 + top_margin, 86)\n",
    "\n",
    "    input[top_margin :top_margin_size, left_margin : left_margin_size] = x[top_margin :top_margin_size, left_margin : left_margin_size]"
   ],
   "outputs": [],
   "metadata": {}
  },
  {
   "cell_type": "code",
   "execution_count": 4,
   "source": [
    "def call():\n",
    "    subdir = \"dataset/000\"\n",
    "    for img in os.listdir(subdir):\n",
    "        do_image(img_file=os.path.join(subdir, img))\n",
    "        \n"
   ],
   "outputs": [],
   "metadata": {}
  },
  {
   "cell_type": "code",
   "execution_count": 5,
   "source": [
    "%timeit call()"
   ],
   "outputs": [
    {
     "output_type": "stream",
     "name": "stdout",
     "text": [
      "2.5 s ± 29.2 ms per loop (mean ± std. dev. of 7 runs, 1 loop each)\n"
     ]
    }
   ],
   "metadata": {}
  },
  {
   "cell_type": "code",
   "execution_count": null,
   "source": [],
   "outputs": [],
   "metadata": {}
  }
 ],
 "metadata": {
  "orig_nbformat": 4,
  "language_info": {
   "name": "python",
   "version": "3.9.6",
   "mimetype": "text/x-python",
   "codemirror_mode": {
    "name": "ipython",
    "version": 3
   },
   "pygments_lexer": "ipython3",
   "nbconvert_exporter": "python",
   "file_extension": ".py"
  },
  "kernelspec": {
   "name": "python3",
   "display_name": "Python 3.9.6 64-bit ('python2challenge': conda)"
  },
  "interpreter": {
   "hash": "c2d6cd5f98cecd9c4916cc25feff837517754f6ddde3b6209ea7ecfc29500402"
  }
 },
 "nbformat": 4,
 "nbformat_minor": 2
}